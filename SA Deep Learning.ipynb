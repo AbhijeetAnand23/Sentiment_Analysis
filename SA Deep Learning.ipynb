{
 "cells": [
  {
   "cell_type": "code",
   "execution_count": 1,
   "metadata": {},
   "outputs": [
    {
     "name": "stderr",
     "output_type": "stream",
     "text": [
      "c:\\Users\\abhij\\AppData\\Local\\Programs\\Python\\Python39\\lib\\site-packages\\torchtext\\vocab\\__init__.py:4: UserWarning: \n",
      "/!\\ IMPORTANT WARNING ABOUT TORCHTEXT STATUS /!\\ \n",
      "Torchtext is deprecated and the last released version will be 0.18 (this one). You can silence this warning by calling the following at the beginnign of your scripts: `import torchtext; torchtext.disable_torchtext_deprecation_warning()`\n",
      "  warnings.warn(torchtext._TORCHTEXT_DEPRECATION_MSG)\n",
      "c:\\Users\\abhij\\AppData\\Local\\Programs\\Python\\Python39\\lib\\site-packages\\torchtext\\utils.py:4: UserWarning: \n",
      "/!\\ IMPORTANT WARNING ABOUT TORCHTEXT STATUS /!\\ \n",
      "Torchtext is deprecated and the last released version will be 0.18 (this one). You can silence this warning by calling the following at the beginnign of your scripts: `import torchtext; torchtext.disable_torchtext_deprecation_warning()`\n",
      "  warnings.warn(torchtext._TORCHTEXT_DEPRECATION_MSG)\n"
     ]
    }
   ],
   "source": [
    "import numpy as np\n",
    "import pandas as pd\n",
    "import re\n",
    "import warnings\n",
    "import torch\n",
    "import os\n",
    "import torch.nn as nn\n",
    "import torch.optim as optim\n",
    "from torchtext.vocab import GloVe\n",
    "from torch.utils.data import TensorDataset, DataLoader, random_split\n",
    "from sklearn.model_selection import train_test_split\n",
    "from sklearn.preprocessing import LabelEncoder\n",
    "from sklearn.feature_extraction.text import CountVectorizer\n",
    "import torch.nn.functional as F\n",
    "from tqdm import tqdm\n",
    "from torchtext.vocab import GloVe\n",
    "import matplotlib.pyplot as plt\n",
    "from transformers import AutoTokenizer, AutoModelForSequenceClassification\n",
    "from sklearn.metrics import accuracy_score\n",
    "from transformers import BertTokenizer, BertForSequenceClassification\n",
    "from collections import Counter\n",
    "import warnings\n",
    "\n",
    "\n",
    "warnings.filterwarnings(\"ignore\")"
   ]
  },
  {
   "cell_type": "code",
   "execution_count": 2,
   "metadata": {},
   "outputs": [],
   "source": [
    "class Attention(nn.Module):\n",
    "    def __init__(self, hidden_dim):\n",
    "        super(Attention, self).__init__()\n",
    "        self.attention = nn.Linear(hidden_dim, 1)\n",
    "\n",
    "    def forward(self, lstm_output):\n",
    "        attn_weights = F.softmax(self.attention(lstm_output), dim=1)\n",
    "        context = torch.sum(attn_weights * lstm_output, dim=1)\n",
    "        return context, attn_weights\n",
    "\n",
    "class SentimentClassifier(nn.Module):\n",
    "    def __init__(self, vocab_size, embed_dim, hidden_dim, num_layers, output_dim, dropout):\n",
    "        super(SentimentClassifier, self).__init__()\n",
    "        self.embedding = nn.Embedding(vocab_size, embed_dim)\n",
    "        self.lstm = nn.LSTM(embed_dim, hidden_dim, num_layers, batch_first=True, dropout=dropout)\n",
    "        self.attention = Attention(hidden_dim)\n",
    "        self.fc1 = nn.Linear(hidden_dim, hidden_dim)\n",
    "        self.fc2 = nn.Linear(hidden_dim, output_dim)\n",
    "        self.dropout = nn.Dropout(dropout)\n",
    "\n",
    "    def forward(self, x):\n",
    "        embedded = self.embedding(x)\n",
    "        lstm_output, (hidden, _) = self.lstm(embedded)\n",
    "        context, attn_weights = self.attention(lstm_output)\n",
    "        hidden = self.dropout(context)\n",
    "        hidden = torch.relu(self.fc1(hidden))\n",
    "        output = self.fc2(hidden)\n",
    "        return output"
   ]
  },
  {
   "cell_type": "code",
   "execution_count": 3,
   "metadata": {},
   "outputs": [],
   "source": [
    "def clean_text(text):\n",
    "    text = text.replace('\\n', ' ')\n",
    "    text = re.sub(r'[^A-Za-z0-9\\s]', '', text)\n",
    "    text = re.sub(r'\\s+', ' ', text).strip()\n",
    "    return text\n",
    "\n",
    "\n",
    "def tokenize_text(text):\n",
    "    tokens = text.split()\n",
    "    return [glove.stoi[token] for token in tokens if token in glove.stoi]\n",
    "\n",
    "\n",
    "def clean_digits(text):\n",
    "    flag = True\n",
    "    for word in text.split():\n",
    "        if(word.isdigit() == False):\n",
    "            return text\n",
    "            flag = False\n",
    "    \n",
    "    if(flag):\n",
    "        return None"
   ]
  },
  {
   "cell_type": "code",
   "execution_count": 4,
   "metadata": {},
   "outputs": [
    {
     "data": {
      "text/html": [
       "<div>\n",
       "<style scoped>\n",
       "    .dataframe tbody tr th:only-of-type {\n",
       "        vertical-align: middle;\n",
       "    }\n",
       "\n",
       "    .dataframe tbody tr th {\n",
       "        vertical-align: top;\n",
       "    }\n",
       "\n",
       "    .dataframe thead th {\n",
       "        text-align: right;\n",
       "    }\n",
       "</style>\n",
       "<table border=\"1\" class=\"dataframe\">\n",
       "  <thead>\n",
       "    <tr style=\"text-align: right;\">\n",
       "      <th></th>\n",
       "      <th>Customer_Text</th>\n",
       "      <th>Sentiment</th>\n",
       "    </tr>\n",
       "  </thead>\n",
       "  <tbody>\n",
       "    <tr>\n",
       "      <th>0</th>\n",
       "      <td>i am very shocked due to my electricity bill l...</td>\n",
       "      <td>negative</td>\n",
       "    </tr>\n",
       "    <tr>\n",
       "      <th>1</th>\n",
       "      <td>can we know about the new baseguidelines about...</td>\n",
       "      <td>negative</td>\n",
       "    </tr>\n",
       "    <tr>\n",
       "      <th>2</th>\n",
       "      <td>it is third day of low voltage fluctuation in ...</td>\n",
       "      <td>negative</td>\n",
       "    </tr>\n",
       "    <tr>\n",
       "      <th>3</th>\n",
       "      <td>now that 30620 is over lab test must have be d...</td>\n",
       "      <td>neutral</td>\n",
       "    </tr>\n",
       "    <tr>\n",
       "      <th>4</th>\n",
       "      <td>no power supply in our area since last 30 min ...</td>\n",
       "      <td>negative</td>\n",
       "    </tr>\n",
       "    <tr>\n",
       "      <th>...</th>\n",
       "      <td>...</td>\n",
       "      <td>...</td>\n",
       "    </tr>\n",
       "    <tr>\n",
       "      <th>34604</th>\n",
       "      <td>heres no electrical supply qhy you cut the ele...</td>\n",
       "      <td>negative</td>\n",
       "    </tr>\n",
       "    <tr>\n",
       "      <th>34605</th>\n",
       "      <td>no power for ca no 151791523</td>\n",
       "      <td>negative</td>\n",
       "    </tr>\n",
       "    <tr>\n",
       "      <th>34606</th>\n",
       "      <td>no electricity in our area my ca no is 101424877</td>\n",
       "      <td>negative</td>\n",
       "    </tr>\n",
       "    <tr>\n",
       "      <th>34607</th>\n",
       "      <td>still no update when would be power restored</td>\n",
       "      <td>negative</td>\n",
       "    </tr>\n",
       "    <tr>\n",
       "      <th>34608</th>\n",
       "      <td>new ashok nagar mein light chali gayi hain kuc...</td>\n",
       "      <td>positive</td>\n",
       "    </tr>\n",
       "  </tbody>\n",
       "</table>\n",
       "<p>34609 rows × 2 columns</p>\n",
       "</div>"
      ],
      "text/plain": [
       "                                           Customer_Text Sentiment\n",
       "0      i am very shocked due to my electricity bill l...  negative\n",
       "1      can we know about the new baseguidelines about...  negative\n",
       "2      it is third day of low voltage fluctuation in ...  negative\n",
       "3      now that 30620 is over lab test must have be d...   neutral\n",
       "4      no power supply in our area since last 30 min ...  negative\n",
       "...                                                  ...       ...\n",
       "34604  heres no electrical supply qhy you cut the ele...  negative\n",
       "34605                       no power for ca no 151791523  negative\n",
       "34606   no electricity in our area my ca no is 101424877  negative\n",
       "34607       still no update when would be power restored  negative\n",
       "34608  new ashok nagar mein light chali gayi hain kuc...  positive\n",
       "\n",
       "[34609 rows x 2 columns]"
      ]
     },
     "execution_count": 4,
     "metadata": {},
     "output_type": "execute_result"
    }
   ],
   "source": [
    "file_path = 'D:\\\\BSES - Data Analyst\\\\Sentiment Analysis\\\\Data\\\\Roberta Data.csv'\n",
    "df = pd.read_csv(file_path)\n",
    "df['Customer_Text'] = df['Customer_Text'].astype(str)\n",
    "print()\n",
    "df"
   ]
  },
  {
   "cell_type": "code",
   "execution_count": 5,
   "metadata": {},
   "outputs": [
    {
     "data": {
      "text/html": [
       "<div>\n",
       "<style scoped>\n",
       "    .dataframe tbody tr th:only-of-type {\n",
       "        vertical-align: middle;\n",
       "    }\n",
       "\n",
       "    .dataframe tbody tr th {\n",
       "        vertical-align: top;\n",
       "    }\n",
       "\n",
       "    .dataframe thead th {\n",
       "        text-align: right;\n",
       "    }\n",
       "</style>\n",
       "<table border=\"1\" class=\"dataframe\">\n",
       "  <thead>\n",
       "    <tr style=\"text-align: right;\">\n",
       "      <th></th>\n",
       "      <th>Customer_Text</th>\n",
       "      <th>Sentiment</th>\n",
       "    </tr>\n",
       "  </thead>\n",
       "  <tbody>\n",
       "    <tr>\n",
       "      <th>0</th>\n",
       "      <td>i am very shocked due to my electricity bill l...</td>\n",
       "      <td>negative</td>\n",
       "    </tr>\n",
       "    <tr>\n",
       "      <th>1</th>\n",
       "      <td>can we know about the new baseguidelines about...</td>\n",
       "      <td>negative</td>\n",
       "    </tr>\n",
       "    <tr>\n",
       "      <th>2</th>\n",
       "      <td>it is third day of low voltage fluctuation in ...</td>\n",
       "      <td>negative</td>\n",
       "    </tr>\n",
       "    <tr>\n",
       "      <th>3</th>\n",
       "      <td>now that 30620 is over lab test must have be d...</td>\n",
       "      <td>neutral</td>\n",
       "    </tr>\n",
       "    <tr>\n",
       "      <th>4</th>\n",
       "      <td>no power supply in our area since last 30 min ...</td>\n",
       "      <td>negative</td>\n",
       "    </tr>\n",
       "    <tr>\n",
       "      <th>...</th>\n",
       "      <td>...</td>\n",
       "      <td>...</td>\n",
       "    </tr>\n",
       "    <tr>\n",
       "      <th>34604</th>\n",
       "      <td>heres no electrical supply qhy you cut the ele...</td>\n",
       "      <td>negative</td>\n",
       "    </tr>\n",
       "    <tr>\n",
       "      <th>34605</th>\n",
       "      <td>no power for ca no 151791523</td>\n",
       "      <td>negative</td>\n",
       "    </tr>\n",
       "    <tr>\n",
       "      <th>34606</th>\n",
       "      <td>no electricity in our area my ca no is 101424877</td>\n",
       "      <td>negative</td>\n",
       "    </tr>\n",
       "    <tr>\n",
       "      <th>34607</th>\n",
       "      <td>still no update when would be power restored</td>\n",
       "      <td>negative</td>\n",
       "    </tr>\n",
       "    <tr>\n",
       "      <th>34608</th>\n",
       "      <td>new ashok nagar mein light chali gayi hain kuc...</td>\n",
       "      <td>positive</td>\n",
       "    </tr>\n",
       "  </tbody>\n",
       "</table>\n",
       "<p>34396 rows × 2 columns</p>\n",
       "</div>"
      ],
      "text/plain": [
       "                                           Customer_Text Sentiment\n",
       "0      i am very shocked due to my electricity bill l...  negative\n",
       "1      can we know about the new baseguidelines about...  negative\n",
       "2      it is third day of low voltage fluctuation in ...  negative\n",
       "3      now that 30620 is over lab test must have be d...   neutral\n",
       "4      no power supply in our area since last 30 min ...  negative\n",
       "...                                                  ...       ...\n",
       "34604  heres no electrical supply qhy you cut the ele...  negative\n",
       "34605                       no power for ca no 151791523  negative\n",
       "34606   no electricity in our area my ca no is 101424877  negative\n",
       "34607       still no update when would be power restored  negative\n",
       "34608  new ashok nagar mein light chali gayi hain kuc...  positive\n",
       "\n",
       "[34396 rows x 2 columns]"
      ]
     },
     "execution_count": 5,
     "metadata": {},
     "output_type": "execute_result"
    }
   ],
   "source": [
    "df['Customer_Text'] = df['Customer_Text'].apply(clean_digits)\n",
    "df.dropna(inplace=True)\n",
    "df['Customer_Text'] = df['Customer_Text'].apply(clean_text)\n",
    "df = df[df['Customer_Text'].str.strip() != '']\n",
    "df = df[df['Customer_Text'].str.split().apply(len) > 1]\n",
    "df"
   ]
  },
  {
   "cell_type": "markdown",
   "metadata": {},
   "source": [
    "# LSTM + Self Attention Model"
   ]
  },
  {
   "cell_type": "code",
   "execution_count": 8,
   "metadata": {},
   "outputs": [],
   "source": [
    "label_encoder = LabelEncoder()\n",
    "df['Sentiment'] = label_encoder.fit_transform(df['Sentiment'])\n",
    "train_data, test_data = train_test_split(df, test_size=0.3, random_state=42)"
   ]
  },
  {
   "cell_type": "code",
   "execution_count": 89,
   "metadata": {},
   "outputs": [
    {
     "name": "stdout",
     "output_type": "stream",
     "text": [
      "{'negative': 0, 'neutral': 1, 'positive': 2}\n"
     ]
    }
   ],
   "source": [
    "label_mapping = dict(zip(label_encoder.classes_, range(len(label_encoder.classes_))))\n",
    "print(label_mapping)"
   ]
  },
  {
   "cell_type": "code",
   "execution_count": 87,
   "metadata": {},
   "outputs": [
    {
     "name": "stderr",
     "output_type": "stream",
     "text": [
      "100%|█████████▉| 399999/400000 [01:04<00:00, 6227.15it/s]\n"
     ]
    }
   ],
   "source": [
    "custom_embed_dir = os.path.join(os.getcwd(), 'Embedding')\n",
    "max_len = 500\n",
    "embed_dim = 300\n",
    "batch_size = 64\n",
    "hidden_dim = 100\n",
    "output_dim = len(label_encoder.classes_)\n",
    "dropout_rate = 0.2\n",
    "num_layers = 2\n",
    "glove = GloVe(name='6B', dim=embed_dim, cache=custom_embed_dir)\n",
    "vocab_size = len(glove.stoi)"
   ]
  },
  {
   "cell_type": "code",
   "execution_count": 43,
   "metadata": {},
   "outputs": [],
   "source": [
    "train_data['Tokenized_Text'] = train_data['Customer_Text'].apply(tokenize_text)\n",
    "test_data['Tokenized_Text'] = test_data['Customer_Text'].apply(tokenize_text)\n",
    "train_data['Padded_Text'] = train_data['Tokenized_Text'].apply(lambda x: x[:max_len] + [0] * (max_len - len(x)))\n",
    "test_data['Padded_Text'] = test_data['Tokenized_Text'].apply(lambda x: x[:max_len] + [0] * (max_len - len(x)))"
   ]
  },
  {
   "cell_type": "code",
   "execution_count": 44,
   "metadata": {},
   "outputs": [],
   "source": [
    "X_train_tensor = torch.tensor(train_data['Padded_Text'].tolist(), dtype=torch.long)\n",
    "y_train_tensor = torch.tensor(train_data['Sentiment'].values, dtype=torch.long)\n",
    "X_test_tensor = torch.tensor(test_data['Padded_Text'].tolist(), dtype=torch.long)\n",
    "y_test_tensor = torch.tensor(test_data['Sentiment'].values, dtype=torch.long)"
   ]
  },
  {
   "cell_type": "code",
   "execution_count": 45,
   "metadata": {},
   "outputs": [],
   "source": [
    "train_dataset = TensorDataset(X_train_tensor, y_train_tensor)\n",
    "test_dataset = TensorDataset(X_test_tensor, y_test_tensor)\n",
    "\n",
    "train_loader = DataLoader(train_dataset, batch_size=batch_size, shuffle=True)\n",
    "test_loader = DataLoader(test_dataset, batch_size=batch_size)"
   ]
  },
  {
   "cell_type": "code",
   "execution_count": 46,
   "metadata": {},
   "outputs": [],
   "source": [
    "model = SentimentClassifier(vocab_size, embed_dim, hidden_dim, num_layers, output_dim, dropout_rate)\n",
    "criterion = nn.CrossEntropyLoss()\n",
    "optimizer = optim.Adam(model.parameters())"
   ]
  },
  {
   "cell_type": "code",
   "execution_count": 47,
   "metadata": {},
   "outputs": [
    {
     "name": "stderr",
     "output_type": "stream",
     "text": [
      "Epoch 1/5: 100%|██████████| 377/377 [09:36<00:00,  1.53s/batch]\n"
     ]
    },
    {
     "name": "stdout",
     "output_type": "stream",
     "text": [
      "Epoch 1/5, Loss: 0.5921870899295301, Train Accuracy: 0.7171574531710762\n"
     ]
    },
    {
     "name": "stderr",
     "output_type": "stream",
     "text": [
      "Epoch 2/5: 100%|██████████| 377/377 [09:35<00:00,  1.53s/batch]\n"
     ]
    },
    {
     "name": "stdout",
     "output_type": "stream",
     "text": [
      "Epoch 2/5, Loss: 0.32704489555615013, Train Accuracy: 0.8764380944469826\n"
     ]
    },
    {
     "name": "stderr",
     "output_type": "stream",
     "text": [
      "Epoch 3/5: 100%|██████████| 377/377 [09:42<00:00,  1.54s/batch]\n"
     ]
    },
    {
     "name": "stdout",
     "output_type": "stream",
     "text": [
      "Epoch 3/5, Loss: 0.22736087435515553, Train Accuracy: 0.9176392407691988\n"
     ]
    },
    {
     "name": "stderr",
     "output_type": "stream",
     "text": [
      "Epoch 4/5: 100%|██████████| 377/377 [09:35<00:00,  1.53s/batch]\n"
     ]
    },
    {
     "name": "stdout",
     "output_type": "stream",
     "text": [
      "Epoch 4/5, Loss: 0.1529837381045287, Train Accuracy: 0.9456742949703036\n"
     ]
    },
    {
     "name": "stderr",
     "output_type": "stream",
     "text": [
      "Epoch 5/5: 100%|██████████| 377/377 [09:36<00:00,  1.53s/batch]"
     ]
    },
    {
     "name": "stdout",
     "output_type": "stream",
     "text": [
      "Epoch 5/5, Loss: 0.1020530435165257, Train Accuracy: 0.9636997964862732\n"
     ]
    },
    {
     "name": "stderr",
     "output_type": "stream",
     "text": [
      "\n"
     ]
    }
   ],
   "source": [
    "num_epochs = 5\n",
    "train_losses = []\n",
    "train_accuracies = []\n",
    "\n",
    "for epoch in range(num_epochs):\n",
    "    total_loss = 0.0\n",
    "    correct = 0\n",
    "    total = 0\n",
    "    for batch in tqdm(train_loader, desc=f'Epoch {epoch+1}/{num_epochs}', unit='batch'):\n",
    "        inputs, labels = batch\n",
    "        optimizer.zero_grad()\n",
    "        outputs = model(inputs)\n",
    "        loss = criterion(outputs, labels)\n",
    "        loss.backward()\n",
    "        optimizer.step()\n",
    "        total_loss += loss.item()\n",
    "        \n",
    "        _, predicted = torch.max(outputs, 1)\n",
    "        total += labels.size(0)\n",
    "        correct += (predicted == labels).sum().item()\n",
    "    \n",
    "    train_accuracy = correct / total\n",
    "    train_losses.append(total_loss / len(train_loader))\n",
    "    train_accuracies.append(train_accuracy)\n",
    "    \n",
    "    print(f'Epoch {epoch+1}/{num_epochs}, Loss: {total_loss / len(train_loader)}, Train Accuracy: {train_accuracy}')"
   ]
  },
  {
   "cell_type": "code",
   "execution_count": 48,
   "metadata": {},
   "outputs": [
    {
     "data": {
      "image/png": "[encoded data removed]",
      "text/plain": [
       "<Figure size 1200x500 with 2 Axes>"
      ]
     },
     "metadata": {},
     "output_type": "display_data"
    }
   ],
   "source": [
    "plt.figure(figsize=(12, 5))\n",
    "\n",
    "plt.subplot(1, 2, 1)\n",
    "plt.plot(range(1, num_epochs + 1), train_losses, label='Train Loss')\n",
    "plt.xlabel('Epochs')\n",
    "plt.ylabel('Loss')\n",
    "plt.title('Training Loss Over Epochs')\n",
    "plt.legend()\n",
    "\n",
    "plt.subplot(1, 2, 2)\n",
    "plt.plot(range(1, num_epochs + 1), train_accuracies, label='Train Accuracy')\n",
    "plt.xlabel('Epochs')\n",
    "plt.ylabel('Accuracy')\n",
    "plt.title('Training Accuracy Over Epochs')\n",
    "plt.legend()\n",
    "\n",
    "plt.tight_layout()\n",
    "plt.show()"
   ]
  },
  {
   "cell_type": "code",
   "execution_count": 13,
   "metadata": {},
   "outputs": [],
   "source": [
    "LSTM_save_path = \"D:\\\\BSES - Data Analyst\\\\Sentiment Analysis\\Model\\\\LSTM.pt\"\n",
    "torch.save(model.state_dict(), LSTM_save_path)"
   ]
  },
  {
   "cell_type": "code",
   "execution_count": 44,
   "metadata": {},
   "outputs": [
    {
     "name": "stderr",
     "output_type": "stream",
     "text": [
      "Evaluation: 100%|██████████| 163/163 [00:38<00:00,  4.18batch/s]"
     ]
    },
    {
     "name": "stdout",
     "output_type": "stream",
     "text": [
      "Accuracy: 0.8956948858711355\n"
     ]
    },
    {
     "name": "stderr",
     "output_type": "stream",
     "text": [
      "\n"
     ]
    }
   ],
   "source": [
    "model.eval()\n",
    "correct = 0\n",
    "total = 0\n",
    "with torch.no_grad():\n",
    "    for batch in tqdm(test_loader, desc='Evaluation', unit='batch'):\n",
    "        inputs, labels = batch\n",
    "        outputs = model(inputs)\n",
    "        _, predicted = torch.max(outputs, 1)\n",
    "        total += labels.size(0)\n",
    "        correct += (predicted == labels).sum().item()\n",
    "\n",
    "print(f'Accuracy: {correct / total}')"
   ]
  },
  {
   "cell_type": "code",
   "execution_count": 10,
   "metadata": {},
   "outputs": [],
   "source": [
    "new_texts = [\n",
    "    \"Mere ghar ki light nhi aa rahi hai, pichle 5-6 ghante se\",\n",
    "    \"light aa gyi and customer service bhi bohot aachi thi aapki\",\n",
    "    \"Fuck off asshole\"\n",
    "]"
   ]
  },
  {
   "cell_type": "code",
   "execution_count": 12,
   "metadata": {},
   "outputs": [
    {
     "data": {
      "text/plain": [
       "SentimentClassifier(\n",
       "  (embedding): Embedding(400000, 300)\n",
       "  (lstm): LSTM(300, 100, num_layers=2, batch_first=True, dropout=0.2)\n",
       "  (attention): Attention(\n",
       "    (attention): Linear(in_features=100, out_features=1, bias=True)\n",
       "  )\n",
       "  (fc1): Linear(in_features=100, out_features=100, bias=True)\n",
       "  (fc2): Linear(in_features=100, out_features=3, bias=True)\n",
       "  (dropout): Dropout(p=0.2, inplace=False)\n",
       ")"
      ]
     },
     "execution_count": 12,
     "metadata": {},
     "output_type": "execute_result"
    }
   ],
   "source": [
    "model_path = \"D:\\\\BSES - Data Analyst\\\\Sentiment Analysis\\Models\\\\LSTM.pt\"\n",
    "model_LSTM = SentimentClassifier(vocab_size, embed_dim, hidden_dim, num_layers, output_dim, dropout_rate)\n",
    "model_LSTM.load_state_dict(torch.load(model_path))\n",
    "model_LSTM.eval()"
   ]
  },
  {
   "cell_type": "code",
   "execution_count": 13,
   "metadata": {},
   "outputs": [],
   "source": [
    "def predict_sentiment_LSTM(text):\n",
    "    text = clean_text(text)\n",
    "    tokens = tokenize_text(text)\n",
    "    padded_tokens = tokens[:max_len] + [0] * (max_len - len(tokens))\n",
    "    input_tensor = torch.tensor(padded_tokens, dtype=torch.long).unsqueeze(0)\n",
    "\n",
    "    with torch.no_grad():\n",
    "        output = model_LSTM(input_tensor)\n",
    "        _, predicted = torch.max(output, 1)\n",
    "    return label_encoder.inverse_transform(predicted.numpy())[0]"
   ]
  },
  {
   "cell_type": "code",
   "execution_count": 15,
   "metadata": {},
   "outputs": [
    {
     "name": "stdout",
     "output_type": "stream",
     "text": [
      "Text: \"Mere ghar ki light nhi aa rahi hai, pichle 5-6 ghante se\"\n",
      "Predicted Sentiment: neutral\n",
      "\n",
      "Text: \"light aa gyi and customer service bhi bohot aachi thi aapki\"\n",
      "Predicted Sentiment: positive\n",
      "\n",
      "Text: \"Fuck off asshole\"\n",
      "Predicted Sentiment: neutral\n",
      "\n"
     ]
    }
   ],
   "source": [
    "for text in new_texts:\n",
    "    sentiment = predict_sentiment_LSTM(text)\n",
    "    print(f'Text: \"{text}\"\\nPredicted Sentiment: {sentiment}\\n')"
   ]
  },
  {
   "cell_type": "markdown",
   "metadata": {},
   "source": [
    "# XLM-RoBERTa Model"
   ]
  },
  {
   "cell_type": "code",
   "execution_count": 16,
   "metadata": {},
   "outputs": [],
   "source": [
    "model_name_RoBERTa = 'cardiffnlp/twitter-xlm-roberta-base-sentiment'\n",
    "custom_cache_dir = os.path.join(os.getcwd(), 'Models')\n",
    "os.makedirs(custom_cache_dir, exist_ok=True)\n",
    "tokenizer_xlm_roberta = AutoTokenizer.from_pretrained(model_name_RoBERTa, cache_dir=custom_cache_dir)\n",
    "model_xlm_roberta = AutoModelForSequenceClassification.from_pretrained(model_name_RoBERTa, cache_dir=custom_cache_dir)"
   ]
  },
  {
   "cell_type": "code",
   "execution_count": 48,
   "metadata": {},
   "outputs": [],
   "source": [
    "def predict_sentiment_XLMRoBERTa(text):\n",
    "    sentiment_mapping = {0: 'negative', 1: 'neutral', 2: 'positive'}\n",
    "\n",
    "    inputs = tokenizer_xlm_roberta(text, return_tensors=\"pt\", truncation=True, padding=True, max_length=512)\n",
    "    outputs = model_xlm_roberta(**inputs)\n",
    "    predictions = torch.nn.functional.softmax(outputs.logits, dim=-1)\n",
    "    sentiment = torch.argmax(predictions, dim=1).item()\n",
    "    sentiment_label = sentiment_mapping[sentiment]\n",
    "\n",
    "    return sentiment_label"
   ]
  },
  {
   "cell_type": "code",
   "execution_count": 66,
   "metadata": {},
   "outputs": [],
   "source": [
    "temp = test_data\n",
    "temp['Predicted_sentiment'] = temp['Customer_Text'].apply(predict_sentiment_XLMRoBERTa)\n",
    "temp"
   ]
  },
  {
   "cell_type": "code",
   "execution_count": 90,
   "metadata": {},
   "outputs": [
    {
     "name": "stdout",
     "output_type": "stream",
     "text": [
      "Model Accuracy: 0.783215427851536\n"
     ]
    }
   ],
   "source": [
    "accuracy = accuracy_score(temp['Sentiment'], test_data['Predicted_sentiment'])\n",
    "print(f\"Model Accuracy: {accuracy}\")"
   ]
  },
  {
   "cell_type": "code",
   "execution_count": 49,
   "metadata": {},
   "outputs": [],
   "source": [
    "new_texts = [\n",
    "    \"Mere ghar ki light nhi aa rahi hai, pichle 5-6 ghante se\",\n",
    "    \"light aa gyi and customer service bhi bohot aachi thi aapki\",\n",
    "    \"Fuck off asshole\"\n",
    "]"
   ]
  },
  {
   "cell_type": "code",
   "execution_count": 50,
   "metadata": {},
   "outputs": [
    {
     "name": "stdout",
     "output_type": "stream",
     "text": [
      "Text: \"Mere ghar ki light nhi aa rahi hai, pichle 5-6 ghante se\"\n",
      "Predicted Sentiment: negative\n",
      "\n",
      "Text: \"light aa gyi and customer service bhi bohot aachi thi aapki\"\n",
      "Predicted Sentiment: positive\n",
      "\n",
      "Text: \"Fuck off asshole\"\n",
      "Predicted Sentiment: negative\n",
      "\n"
     ]
    }
   ],
   "source": [
    "sentiment_mapping = {0: 'negative', 1: 'neutral', 2: 'positive'}\n",
    "\n",
    "for text in new_texts:\n",
    "    sentiment = predict_sentiment_XLMRoBERTa(text)\n",
    "    print(f'Text: \"{text}\"\\nPredicted Sentiment: {sentiment}\\n')"
   ]
  },
  {
   "cell_type": "markdown",
   "metadata": {},
   "source": [
    "# BERT Model"
   ]
  },
  {
   "cell_type": "code",
   "execution_count": 21,
   "metadata": {},
   "outputs": [],
   "source": [
    "model_name_BERT = 'nlptown/bert-base-multilingual-uncased-sentiment'\n",
    "custom_cache_dir = os.path.join(os.getcwd(), 'Models')\n",
    "os.makedirs(custom_cache_dir, exist_ok=True)\n",
    "tokenizer_BERT = BertTokenizer.from_pretrained(model_name_BERT, cache_dir=custom_cache_dir)\n",
    "model_BERT = BertForSequenceClassification.from_pretrained(model_name_BERT, cache_dir=custom_cache_dir)"
   ]
  },
  {
   "cell_type": "code",
   "execution_count": 69,
   "metadata": {},
   "outputs": [],
   "source": [
    "def predict_sentiment_BERT(text):\n",
    "    sentiment_lower = {0: 0, 1: 0, 2: 1, 3: 2, 4: 2}\n",
    "\n",
    "    sentiment_mapping = {0: 'negative', 1: 'neutral', 2: 'positive'}\n",
    "\n",
    "    inputs = tokenizer_BERT(text, return_tensors=\"pt\", truncation=True, padding=True, max_length=512)\n",
    "    outputs = model_BERT(**inputs)\n",
    "    predictions = torch.nn.functional.softmax(outputs.logits, dim=-1)\n",
    "    sentiment = torch.argmax(predictions, dim=1).item()\n",
    "    sentiment_label = sentiment_mapping[sentiment_lower[sentiment]]\n",
    "\n",
    "    return sentiment_label"
   ]
  },
  {
   "cell_type": "code",
   "execution_count": 120,
   "metadata": {},
   "outputs": [
    {
     "data": {
      "text/html": [
       "<div>\n",
       "<style scoped>\n",
       "    .dataframe tbody tr th:only-of-type {\n",
       "        vertical-align: middle;\n",
       "    }\n",
       "\n",
       "    .dataframe tbody tr th {\n",
       "        vertical-align: top;\n",
       "    }\n",
       "\n",
       "    .dataframe thead th {\n",
       "        text-align: right;\n",
       "    }\n",
       "</style>\n",
       "<table border=\"1\" class=\"dataframe\">\n",
       "  <thead>\n",
       "    <tr style=\"text-align: right;\">\n",
       "      <th></th>\n",
       "      <th>Customer_Text</th>\n",
       "      <th>Sentiment</th>\n",
       "      <th>Predicted_sentiment</th>\n",
       "      <th>Predicted_sentiment_label</th>\n",
       "    </tr>\n",
       "  </thead>\n",
       "  <tbody>\n",
       "    <tr>\n",
       "      <th>11980</th>\n",
       "      <td>no current</td>\n",
       "      <td>1</td>\n",
       "      <td>1</td>\n",
       "      <td>neutral</td>\n",
       "    </tr>\n",
       "    <tr>\n",
       "      <th>11637</th>\n",
       "      <td>your person came and said there is electricity...</td>\n",
       "      <td>0</td>\n",
       "      <td>0</td>\n",
       "      <td>negative</td>\n",
       "    </tr>\n",
       "    <tr>\n",
       "      <th>3939</th>\n",
       "      <td>no electricity from 11 am todays morningplease...</td>\n",
       "      <td>0</td>\n",
       "      <td>0</td>\n",
       "      <td>negative</td>\n",
       "    </tr>\n",
       "    <tr>\n",
       "      <th>9634</th>\n",
       "      <td>sir hmare pass online bill aaya tha 2920 or 4t...</td>\n",
       "      <td>2</td>\n",
       "      <td>2</td>\n",
       "      <td>positive</td>\n",
       "    </tr>\n",
       "    <tr>\n",
       "      <th>4499</th>\n",
       "      <td>no update received regarding revised bill</td>\n",
       "      <td>1</td>\n",
       "      <td>1</td>\n",
       "      <td>neutral</td>\n",
       "    </tr>\n",
       "    <tr>\n",
       "      <th>...</th>\n",
       "      <td>...</td>\n",
       "      <td>...</td>\n",
       "      <td>...</td>\n",
       "      <td>...</td>\n",
       "    </tr>\n",
       "    <tr>\n",
       "      <th>33824</th>\n",
       "      <td>i i am the resident of ashoka pahari near chow...</td>\n",
       "      <td>0</td>\n",
       "      <td>0</td>\n",
       "      <td>negative</td>\n",
       "    </tr>\n",
       "    <tr>\n",
       "      <th>32960</th>\n",
       "      <td>bill of ca no 154310469 jan24 of rs3600 due on...</td>\n",
       "      <td>1</td>\n",
       "      <td>1</td>\n",
       "      <td>neutral</td>\n",
       "    </tr>\n",
       "    <tr>\n",
       "      <th>16891</th>\n",
       "      <td>please re send bill today updated please bill ...</td>\n",
       "      <td>1</td>\n",
       "      <td>1</td>\n",
       "      <td>neutral</td>\n",
       "    </tr>\n",
       "    <tr>\n",
       "      <th>10466</th>\n",
       "      <td>amount has not been credited yet kindly update...</td>\n",
       "      <td>0</td>\n",
       "      <td>1</td>\n",
       "      <td>neutral</td>\n",
       "    </tr>\n",
       "    <tr>\n",
       "      <th>1906</th>\n",
       "      <td>sir my ca no 153092483 its meter for lift cons...</td>\n",
       "      <td>0</td>\n",
       "      <td>0</td>\n",
       "      <td>negative</td>\n",
       "    </tr>\n",
       "  </tbody>\n",
       "</table>\n",
       "<p>10319 rows × 4 columns</p>\n",
       "</div>"
      ],
      "text/plain": [
       "                                           Customer_Text  Sentiment  \\\n",
       "11980                                         no current          1   \n",
       "11637  your person came and said there is electricity...          0   \n",
       "3939   no electricity from 11 am todays morningplease...          0   \n",
       "9634   sir hmare pass online bill aaya tha 2920 or 4t...          2   \n",
       "4499           no update received regarding revised bill          1   \n",
       "...                                                  ...        ...   \n",
       "33824  i i am the resident of ashoka pahari near chow...          0   \n",
       "32960  bill of ca no 154310469 jan24 of rs3600 due on...          1   \n",
       "16891  please re send bill today updated please bill ...          1   \n",
       "10466  amount has not been credited yet kindly update...          0   \n",
       "1906   sir my ca no 153092483 its meter for lift cons...          0   \n",
       "\n",
       "       Predicted_sentiment Predicted_sentiment_label  \n",
       "11980                    1                   neutral  \n",
       "11637                    0                  negative  \n",
       "3939                     0                  negative  \n",
       "9634                     2                  positive  \n",
       "4499                     1                   neutral  \n",
       "...                    ...                       ...  \n",
       "33824                    0                  negative  \n",
       "32960                    1                   neutral  \n",
       "16891                    1                   neutral  \n",
       "10466                    1                   neutral  \n",
       "1906                     0                  negative  \n",
       "\n",
       "[10319 rows x 4 columns]"
      ]
     },
     "execution_count": 120,
     "metadata": {},
     "output_type": "execute_result"
    }
   ],
   "source": [
    "temp = test_data\n",
    "temp['Predicted_sentiment'] = temp['Customer_Text'].apply(predict_sentiment_XLMRoBERTa)\n",
    "temp"
   ]
  },
  {
   "cell_type": "code",
   "execution_count": 121,
   "metadata": {},
   "outputs": [
    {
     "name": "stdout",
     "output_type": "stream",
     "text": [
      "Model Accuracy: 0.7827308847756566\n"
     ]
    }
   ],
   "source": [
    "accuracy = accuracy_score(temp['Sentiment'], temp['Predicted_sentiment'])\n",
    "print(f\"Model Accuracy: {accuracy}\")"
   ]
  },
  {
   "cell_type": "code",
   "execution_count": 70,
   "metadata": {},
   "outputs": [],
   "source": [
    "new_texts = [\n",
    "    \"Mere ghar ki light nhi aa rahi hai, pichle 5-6 ghante se\",\n",
    "    \"light aa gyi and customer service bhi bohot aachi thi aapki\",\n",
    "    \"Fuck off asshole\"\n",
    "]"
   ]
  },
  {
   "cell_type": "code",
   "execution_count": 71,
   "metadata": {},
   "outputs": [
    {
     "name": "stdout",
     "output_type": "stream",
     "text": [
      "Text: \"Mere ghar ki light nhi aa rahi hai, pichle 5-6 ghante se\"\n",
      "Predicted Sentiment: negative\n",
      "\n",
      "Text: \"light aa gyi and customer service bhi bohot aachi thi aapki\"\n",
      "Predicted Sentiment: neutral\n",
      "\n",
      "Text: \"Fuck off asshole\"\n",
      "Predicted Sentiment: negative\n",
      "\n"
     ]
    }
   ],
   "source": [
    "for text in new_texts:\n",
    "    sentiment = predict_sentiment_BERT(text)\n",
    "    print(f'Text: \"{text}\"\\nPredicted Sentiment: {sentiment}\\n')"
   ]
  },
  {
   "cell_type": "markdown",
   "metadata": {},
   "source": [
    "# Final Prediction"
   ]
  },
  {
   "cell_type": "code",
   "execution_count": 72,
   "metadata": {},
   "outputs": [],
   "source": [
    "def get_majority_label(predictions):\n",
    "    counter = Counter(predictions)\n",
    "    majority_label = counter.most_common(1)[0][0]\n",
    "    return majority_label"
   ]
  },
  {
   "cell_type": "code",
   "execution_count": 83,
   "metadata": {},
   "outputs": [],
   "source": [
    "new_texts = [\n",
    "    \"Mere ghar ki light nhi aa rahi hai, pichle 5-6 ghante se\",\n",
    "    \"light aa gyi and customer service bhi bohot aachi thi aapki\",\n",
    "    \"Fuck off asshole\",\n",
    "    \"Aap toh bht aache ho sir, aapne jo bola tha vaise hi kara saab\"\n",
    "]"
   ]
  },
  {
   "cell_type": "code",
   "execution_count": 84,
   "metadata": {},
   "outputs": [],
   "source": [
    "predictions = []\n",
    "\n",
    "for text in new_texts:\n",
    "    prediction_LSTM = predict_sentiment_LSTM(text)\n",
    "    prediction_XLMRoBERTa1 = predict_sentiment_XLMRoBERTa(text)\n",
    "    prediction_XLMRoBERTa2 = predict_sentiment_XLMRoBERTa(text)\n",
    "    prediction_BERT = predict_sentiment_BERT(text)\n",
    "    predictions.append((text, prediction_LSTM, prediction_XLMRoBERTa1, prediction_XLMRoBERTa2, prediction_BERT))"
   ]
  },
  {
   "cell_type": "code",
   "execution_count": 85,
   "metadata": {},
   "outputs": [
    {
     "name": "stdout",
     "output_type": "stream",
     "text": [
      "Text: \"Mere ghar ki light nhi aa rahi hai, pichle 5-6 ghante se\"\n",
      "Predicted Sentiment: negative\n",
      "\n",
      "Text: \"light aa gyi and customer service bhi bohot aachi thi aapki\"\n",
      "Predicted Sentiment: positive\n",
      "\n",
      "Text: \"Fuck off asshole\"\n",
      "Predicted Sentiment: negative\n",
      "\n",
      "Text: \"Aap toh bht aache ho sir, aapne jo bola tha vaise hi kara saab\"\n",
      "Predicted Sentiment: negative\n",
      "\n"
     ]
    }
   ],
   "source": [
    "for entry in predictions:\n",
    "    sentiment = get_majority_label(entry[1:])\n",
    "    print(f'Text: \"{entry[0]}\"\\nPredicted Sentiment: {sentiment}\\n')"
   ]
  },
  {
   "cell_type": "code",
   "execution_count": null,
   "metadata": {},
   "outputs": [],
   "source": []
  }
 ],
 "metadata": {
  "kernelspec": {
   "display_name": "Python 3",
   "language": "python",
   "name": "python3"
  },
  "language_info": {
   "codemirror_mode": {
    "name": "ipython",
    "version": 3
   },
   "file_extension": ".py",
   "mimetype": "text/x-python",
   "name": "python",
   "nbconvert_exporter": "python",
   "pygments_lexer": "ipython3",
   "version": "3.9.13"
  }
 },
 "nbformat": 4,
 "nbformat_minor": 2
}
